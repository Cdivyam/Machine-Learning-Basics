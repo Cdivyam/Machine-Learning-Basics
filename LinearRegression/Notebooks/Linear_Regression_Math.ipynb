{
  "nbformat": 4,
  "nbformat_minor": 0,
  "metadata": {
    "colab": {
      "name": "Linear Regression Math.ipynb",
      "provenance": [],
      "collapsed_sections": [],
      "include_colab_link": true
    },
    "kernelspec": {
      "name": "python3",
      "display_name": "Python 3"
    }
  },
  "cells": [
    {
      "cell_type": "markdown",
      "metadata": {
        "id": "view-in-github",
        "colab_type": "text"
      },
      "source": [
        "<a href=\"https://colab.research.google.com/github/Cdivyam/Machine-Learning-Basics/blob/Create-Notebooks-Folder/LinearRegression/Notebooks/Linear_Regression_Math.ipynb\" target=\"_parent\"><img src=\"https://colab.research.google.com/assets/colab-badge.svg\" alt=\"Open In Colab\"/></a>"
      ]
    },
    {
      "cell_type": "code",
      "metadata": {
        "id": "rygVQrJkENwa",
        "colab_type": "code",
        "colab": {}
      },
      "source": [
        "# import libraries\n",
        "import numpy as np\n",
        "import pandas as pd\n",
        "import seaborn as sns\n",
        "import matplotlib.pyplot as plt\n",
        "\n",
        "%matplotlib inline"
      ],
      "execution_count": 0,
      "outputs": []
    },
    {
      "cell_type": "code",
      "metadata": {
        "id": "3mIEJirzY6Wp",
        "colab_type": "code",
        "colab": {}
      },
      "source": [
        "# define data size\n",
        "n = 300"
      ],
      "execution_count": 0,
      "outputs": []
    },
    {
      "cell_type": "code",
      "metadata": {
        "id": "WhMaZxpvPEIh",
        "colab_type": "code",
        "outputId": "d13067a3-6194-48f2-d9d4-11250d2e4037",
        "colab": {
          "base_uri": "https://localhost:8080/",
          "height": 36
        }
      },
      "source": [
        "np.random.seed(0)           # random seed for constant output\n",
        "X = np.linspace(0, 1, n)    # have linearly spaced 'n' numbers in X\n",
        "X = X.reshape(n,1)          # reshape from unranked array to ranked array\n",
        "X.shape"
      ],
      "execution_count": 3,
      "outputs": [
        {
          "output_type": "execute_result",
          "data": {
            "text/plain": [
              "(300, 1)"
            ]
          },
          "metadata": {
            "tags": []
          },
          "execution_count": 3
        }
      ]
    },
    {
      "cell_type": "code",
      "metadata": {
        "id": "ci_CGwkaPuLY",
        "colab_type": "code",
        "outputId": "2134a7a2-1c86-4749-a119-c9a8af41e8d2",
        "colab": {
          "base_uri": "https://localhost:8080/",
          "height": 36
        }
      },
      "source": [
        "Y = 20*X + 7 + np.random.normal(0, 0.8, X.shape)  # have linearly spaced numbers in Y with gausian noise\n",
        "Y.shape"
      ],
      "execution_count": 4,
      "outputs": [
        {
          "output_type": "execute_result",
          "data": {
            "text/plain": [
              "(300, 1)"
            ]
          },
          "metadata": {
            "tags": []
          },
          "execution_count": 4
        }
      ]
    },
    {
      "cell_type": "code",
      "metadata": {
        "id": "MWxhrSdsYuFO",
        "colab_type": "code",
        "outputId": "02ca4d0e-0134-4abc-a82f-1379a0872522",
        "colab": {
          "base_uri": "https://localhost:8080/",
          "height": 110
        }
      },
      "source": [
        "Y[:5]"
      ],
      "execution_count": 5,
      "outputs": [
        {
          "output_type": "execute_result",
          "data": {
            "text/plain": [
              "array([[8.41124188],\n",
              "       [7.3870154 ],\n",
              "       [7.91676965],\n",
              "       [8.99338346],\n",
              "       [8.76160492]])"
            ]
          },
          "metadata": {
            "tags": []
          },
          "execution_count": 5
        }
      ]
    },
    {
      "cell_type": "code",
      "metadata": {
        "id": "b6wDFIxrPAoz",
        "colab_type": "code",
        "outputId": "1efc7e42-422e-429b-c18b-195babc64c32",
        "colab": {
          "base_uri": "https://localhost:8080/",
          "height": 291
        }
      },
      "source": [
        "sns.set()\n",
        "sns.scatterplot(x = X[:, 0], y = Y[:, 0])         #Plot current dataset\n",
        "plt.xlabel('X')\n",
        "plt.ylabel('Y')\n",
        "plt.show()"
      ],
      "execution_count": 6,
      "outputs": [
        {
          "output_type": "display_data",
          "data": {
            "image/png": "[encoded data removed]",
            "text/plain": [
              "<Figure size 432x288 with 1 Axes>"
            ]
          },
          "metadata": {
            "tags": []
          }
        }
      ]
    },
    {
      "cell_type": "code",
      "metadata": {
        "id": "ADk9sJkUMO4E",
        "colab_type": "code",
        "colab": {}
      },
      "source": [
        "# shuffle and split data\n",
        "from sklearn.model_selection import train_test_split\n",
        "\n",
        "X_train, X_test, y_train, y_test = train_test_split(X, Y, test_size = 0.2, random_state = 5)"
      ],
      "execution_count": 0,
      "outputs": []
    },
    {
      "cell_type": "code",
      "metadata": {
        "id": "t2vS1wItMnR9",
        "colab_type": "code",
        "outputId": "fe63b75a-1c71-4002-8860-43ef9664981d",
        "colab": {
          "base_uri": "https://localhost:8080/",
          "height": 91
        }
      },
      "source": [
        "print(X_train.shape)\n",
        "print(y_train.shape)\n",
        "print(X_test.shape)\n",
        "print(y_test.shape)"
      ],
      "execution_count": 8,
      "outputs": [
        {
          "output_type": "stream",
          "text": [
            "(240, 1)\n",
            "(240, 1)\n",
            "(60, 1)\n",
            "(60, 1)\n"
          ],
          "name": "stdout"
        }
      ]
    },
    {
      "cell_type": "code",
      "metadata": {
        "id": "wcXYuQfO48Zk",
        "colab_type": "code",
        "colab": {}
      },
      "source": [
        "# function to initialize parameters\n",
        "def initialize_parameters(dim):\n",
        "  w1 = np.random.rand()\n",
        "  w0 = np.random.rand()\n",
        "\n",
        "  return w1, w0 "
      ],
      "execution_count": 0,
      "outputs": []
    },
    {
      "cell_type": "code",
      "metadata": {
        "id": "JrtnuvPwUfdB",
        "colab_type": "code",
        "colab": {}
      },
      "source": [
        "# function to propagate through the Machine Learning Model\n",
        "def propagate(w0, w1, X, Y):\n",
        "  m = Y.shape[0]\n",
        "  \n",
        "  y_hat = np.multiply(X, w1) + w0 # hypothesis function\n",
        "  \n",
        "  J = 0.5/m*(np.sum(np.power((Y - y_hat), 2))) # cost function\n",
        "  \n",
        "  dw1 = 1/m * (np.sum(np.multiply((y_hat - Y), X))) # gradient descent for w1 \n",
        "  dw0 = 1/m * np.sum(y_hat - Y) # gradient descent for w0\n",
        "  \n",
        "  grads = { 'dw1' : dw1,  # keep gradients at one place - dw0, dw1\n",
        "            'dw0' : dw0}\n",
        "  \n",
        "  return grads, J"
      ],
      "execution_count": 0,
      "outputs": []
    },
    {
      "cell_type": "code",
      "metadata": {
        "id": "KSnvNmKPTK5m",
        "colab_type": "code",
        "colab": {}
      },
      "source": [
        "# function to optimize parameters\n",
        "def optimize(w0, w1, X, Y, num_iter, learn_rate):\n",
        "  \n",
        "  costs = [] # list for all the costs\n",
        "  for i in range(num_iter):\n",
        "    grads, cost = propagate(w0, w1, X, Y) # propagate through the linear regression\n",
        "    \n",
        "    dw1 = grads['dw1']\n",
        "    dw0 = grads['dw0']\n",
        "    \n",
        "    # optimize the gradients\n",
        "    w1 = w1 - learn_rate*dw1 \n",
        "    w0 = w0 - learn_rate*dw0 \n",
        "    \n",
        "    if i%1000 == 0:\n",
        "      print(cost)\n",
        "      costs.append(cost)\n",
        "  params = {'w1' : w1, 'w0' : w0}\n",
        "  \n",
        "  grads = { 'dw1' : dw1, 'dw0' : dw0}\n",
        "  \n",
        "  return params, grads, costs"
      ],
      "execution_count": 0,
      "outputs": []
    },
    {
      "cell_type": "code",
      "metadata": {
        "id": "Ecf1E4QXVUyT",
        "colab_type": "code",
        "colab": {}
      },
      "source": [
        "# predict the test dataset\n",
        "def predict(X, w1, w0):\n",
        "\n",
        "  Y = X*w1 + w0\n",
        "\n",
        "  return Y"
      ],
      "execution_count": 0,
      "outputs": []
    },
    {
      "cell_type": "code",
      "metadata": {
        "id": "hNgaEljDnPLH",
        "colab_type": "code",
        "colab": {}
      },
      "source": [
        "def model(X_train, y_train, X_test, y_test, num_iter, learn_rate):\n",
        "  \n",
        "  # initialize parameters\n",
        "  w1, w0 = initialize_parameters(X_train.shape[0])\n",
        "  \n",
        "  # propagate and optimize\n",
        "  params, grads, costs = optimize(w0, w1, X_train, y_train, num_iter, learn_rate)\n",
        "  \n",
        "  w1 = params['w1']\n",
        "  w0 = params['w0']\n",
        "\n",
        "  # predict test set\n",
        "  y_preds = predict(X_test, w1, w0)\n",
        "  \n",
        "  return w1, w0, costs, y_preds"
      ],
      "execution_count": 0,
      "outputs": []
    },
    {
      "cell_type": "code",
      "metadata": {
        "id": "PojSHLVnpZhD",
        "colab_type": "code",
        "outputId": "f5032f93-492b-4686-a2d1-4884b2423396",
        "colab": {
          "base_uri": "https://localhost:8080/",
          "height": 945
        }
      },
      "source": [
        "w1, w0, costs, y_preds = model(X_train, y_train, X_test, y_test, num_iter = 50000, learn_rate = 0.001)"
      ],
      "execution_count": 14,
      "outputs": [
        {
          "output_type": "stream",
          "text": [
            "144.41816145569373\n",
            "17.035770191334393\n",
            "6.052414981233558\n",
            "4.619038718128837\n",
            "4.029516311403414\n",
            "3.567019301694245\n",
            "3.166004636934383\n",
            "2.8148274283893833\n",
            "2.5070082724453897\n",
            "2.23717069571208\n",
            "2.00062628434477\n",
            "1.7932670987173145\n",
            "1.6114922067014055\n",
            "1.4521449779819917\n",
            "1.3124582531869677\n",
            "1.1900062893727692\n",
            "1.082662635464121\n",
            "0.988563205160586\n",
            "0.9060739059702937\n",
            "0.8337622622232886\n",
            "0.7703725392807828\n",
            "0.7148039369573918\n",
            "0.6660914734721783\n",
            "0.6233892279669077\n",
            "0.5859556505879622\n",
            "0.5531406850327615\n",
            "0.5243744799359707\n",
            "0.4991574930621516\n",
            "0.47705181645812356\n",
            "0.4576735719213411\n",
            "0.4406862447268961\n",
            "0.42579483984946187\n",
            "0.41274075919949016\n",
            "0.4012973109138163\n",
            "0.3912657727168211\n",
            "0.3824719409900873\n",
            "0.3747631056231135\n",
            "0.36800539811156363\n",
            "0.3620814668511681\n",
            "0.35688843925742497\n",
            "0.35233613532208813\n",
            "0.348345501583756\n",
            "0.34484723831756614\n",
            "0.3417805961043229\n",
            "0.33909232088074526\n",
            "0.3367357291510378\n",
            "0.3346698973002566\n",
            "0.33285895093143963\n",
            "0.33127144188538993\n",
            "0.32987980212471996\n"
          ],
          "name": "stdout"
        }
      ]
    },
    {
      "cell_type": "code",
      "metadata": {
        "id": "HRX5by_HUs-s",
        "colab_type": "code",
        "outputId": "fcc8fa12-0dea-4850-a488-4db5c2f5e74c",
        "colab": {
          "base_uri": "https://localhost:8080/",
          "height": 293
        }
      },
      "source": [
        "# plot the costs\n",
        "sns.set(style= 'darkgrid')\n",
        "sns.lineplot(x = range(len(costs)), y = costs)"
      ],
      "execution_count": 15,
      "outputs": [
        {
          "output_type": "execute_result",
          "data": {
            "text/plain": [
              "<matplotlib.axes._subplots.AxesSubplot at 0x7f5b370df390>"
            ]
          },
          "metadata": {
            "tags": []
          },
          "execution_count": 15
        },
        {
          "output_type": "display_data",
          "data": {
            "image/png": "[encoded data removed]",
            "text/plain": [
              "<Figure size 432x288 with 1 Axes>"
            ]
          },
          "metadata": {
            "tags": []
          }
        }
      ]
    },
    {
      "cell_type": "code",
      "metadata": {
        "id": "hkqHznewTMEJ",
        "colab_type": "code",
        "outputId": "5465c11a-bda7-4233-acef-3f9e222b2e9b",
        "colab": {
          "base_uri": "https://localhost:8080/",
          "height": 54
        }
      },
      "source": [
        "# print the weights w0 and w1\n",
        "print(w1)\n",
        "print(w0)"
      ],
      "execution_count": 16,
      "outputs": [
        {
          "output_type": "stream",
          "text": [
            "19.265877250181877\n",
            "7.411609426690644\n"
          ],
          "name": "stdout"
        }
      ]
    },
    {
      "cell_type": "code",
      "metadata": {
        "id": "-mQBA5VUVxcB",
        "colab_type": "code",
        "outputId": "7070fa31-8d52-433b-ae56-fc72bb164703",
        "colab": {
          "base_uri": "https://localhost:8080/",
          "height": 291
        }
      },
      "source": [
        "# plot the regression model\n",
        "sns.set()\n",
        "sns.scatterplot(x = X_test[:, 0], y = y_test[:, 0])\n",
        "plt.plot(X_test, y_preds, color = 'r')\n",
        "plt.xlabel('X')\n",
        "plt.ylabel('Y')\n",
        "plt.show()"
      ],
      "execution_count": 17,
      "outputs": [
        {
          "output_type": "display_data",
          "data": {
            "image/png": "[encoded data removed]",
            "text/plain": [
              "<Figure size 432x288 with 1 Axes>"
            ]
          },
          "metadata": {
            "tags": []
          }
        }
      ]
    },
    {
      "cell_type": "code",
      "metadata": {
        "id": "jIKLSol-piw6",
        "colab_type": "code",
        "colab": {}
      },
      "source": [
        "#Rsquared Error\n",
        "def r_squared(X, Y):\n",
        "\n",
        "  n = X.shape[0]\n",
        "  sX = np.sum(X)\n",
        "  sY = np.sum(Y)\n",
        "  sXY = np.sum(np.multiply(X, Y))\n",
        "  sX2 = np.sum(np.square(X))\n",
        "  sY2 = np.sum(np.square(Y))\n",
        "  numerator = n*sXY - sX*sY\n",
        "\n",
        "  den = (n*sX2-sX**2)*(n*sY2-sY**2)\n",
        "  denominator = np.sqrt(den)\n",
        "\n",
        "  rsqr = numerator/denominator\n",
        "\n",
        "  return rsqr"
      ],
      "execution_count": 0,
      "outputs": []
    },
    {
      "cell_type": "code",
      "metadata": {
        "id": "tzl5q-D2pjkk",
        "colab_type": "code",
        "colab": {
          "base_uri": "https://localhost:8080/",
          "height": 36
        },
        "outputId": "3f2211b3-1a6a-4878-fa5f-507a209b9a89"
      },
      "source": [
        "train_score = r_squared(X_train, y_train)\n",
        "print(train_score)"
      ],
      "execution_count": 19,
      "outputs": [
        {
          "output_type": "stream",
          "text": [
            "0.9901767730853066\n"
          ],
          "name": "stdout"
        }
      ]
    },
    {
      "cell_type": "code",
      "metadata": {
        "id": "W1FXvQO4pnBn",
        "colab_type": "code",
        "colab": {}
      },
      "source": [
        "# 98 % of outputs(Y_train) can be explained by our inputs(X_train)\n",
        "# similarly you can find test_score as well"
      ],
      "execution_count": 0,
      "outputs": []
    }
  ]
}